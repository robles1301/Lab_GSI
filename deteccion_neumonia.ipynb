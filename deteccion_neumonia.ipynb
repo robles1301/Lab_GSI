{
 "cells": [
  {
   "cell_type": "markdown",
   "id": "42dd44d6",
   "metadata": {},
   "source": [
    "# Detección de Neumonía en Radiografías con Deep Learning y Random Forest\n",
    "Este cuaderno explora dos enfoques para la detección automática de neumonía:\n",
    "- Una red convolucional (CNN) entrenada desde cero.\n",
    "- Un clasificador Random Forest sobre características extraídas por MobileNetV2."
   ]
  },
  {
   "cell_type": "markdown",
   "id": "6507ce4c",
   "metadata": {},
   "source": [
    "## 1. Importación de librerías necesarias\n",
    "\n",
    "Importamos todas las librerías necesarias para el tratamiento de imágenes, construcción y entrenamiento de modelos con Keras, extracción de características con MobileNetV2, clasificación tradicional con Scikit-learn y visualización con matplotlib y seaborn.\n"
   ]
  },
  {
   "cell_type": "code",
   "execution_count": null,
   "id": "ae97f7f6",
   "metadata": {},
   "outputs": [],
   "source": [
    "import os\n",
    "import numpy as np\n",
    "import matplotlib.pyplot as plt\n",
    "import seaborn as sns\n",
    "from tensorflow.keras.preprocessing.image import ImageDataGenerator\n",
    "from tensorflow.keras.models import Sequential, load_model\n",
    "from tensorflow.keras.layers import Conv2D, MaxPooling2D, Flatten, Dense, Dropout\n",
    "from tensorflow.keras.optimizers import Adam\n",
    "from tensorflow.keras.applications import MobileNetV2\n",
    "from sklearn.metrics import classification_report, confusion_matrix, accuracy_score\n",
    "from sklearn.ensemble import RandomForestClassifier"
   ]
  },
  {
   "cell_type": "markdown",
   "id": "7d583cde",
   "metadata": {},
   "source": [
    "## 2. Configuración de parámetros y rutas\n",
    "\n",
    "Definimos las rutas a los conjuntos de datos (entrenamiento, validación y prueba), así como parámetros globales del proyecto como el tamaño de las imágenes, el batch size y el número de épocas de entrenamiento.\n"
   ]
  },
  {
   "cell_type": "code",
   "execution_count": null,
   "id": "cac19ee7",
   "metadata": {},
   "outputs": [],
   "source": [
    "data_dir = 'data'\n",
    "train_dir = os.path.join(data_dir, 'train')\n",
    "val_dir = os.path.join(data_dir, 'validation')\n",
    "test_dir = os.path.join(data_dir, 'test')\n",
    "img_width, img_height = 150, 150\n",
    "batch_size = 32\n",
    "epochs = 10"
   ]
  },
  {
   "cell_type": "markdown",
   "id": "83ea0e0c",
   "metadata": {},
   "source": [
    "## 3. Generación de datos\n",
    "\n",
    "Creamos generadores para cargar imágenes desde disco y procesarlas de forma automática.  \n",
    "Aplicamos técnicas de aumento de datos para robustecer el modelo durante el entrenamiento, y normalizamos los píxeles dividiendo entre 255.  \n",
    "Desactivamos el barajado (`shuffle=False`) en los conjuntos de entrenamiento y prueba para mantener el orden de las muestras, importante para la correspondencia con sus etiquetas.\n"
   ]
  },
  {
   "cell_type": "code",
   "execution_count": null,
   "id": "983663db",
   "metadata": {},
   "outputs": [],
   "source": [
    "train_datagen = ImageDataGenerator(rescale=1./255, shear_range=0.2, zoom_range=0.2, horizontal_flip=True)\n",
    "val_datagen = ImageDataGenerator(rescale=1./255)\n",
    "\n",
    "train_generator = train_datagen.flow_from_directory(train_dir, target_size=(img_width, img_height),\n",
    "    batch_size=batch_size, class_mode='binary', shuffle=False)\n",
    "val_generator = val_datagen.flow_from_directory(val_dir, target_size=(img_width, img_height),\n",
    "    batch_size=batch_size, class_mode='binary')\n",
    "test_generator = val_datagen.flow_from_directory(test_dir, target_size=(img_width, img_height),\n",
    "    batch_size=1, class_mode='binary', shuffle=False)"
   ]
  },
  {
   "cell_type": "markdown",
   "id": "ce370a9f",
   "metadata": {},
   "source": [
    "## 4. Entrenamiento o carga del modelo CNN\n",
    "\n",
    "Si existe el archivo `modelo_neumonia.h5`, cargamos el modelo ya entrenado.  \n",
    "En caso contrario, construimos una red neuronal convolucional desde cero, la entrenamos con los datos proporcionados y la guardamos para futuros usos.\n"
   ]
  },
  {
   "cell_type": "code",
   "execution_count": null,
   "id": "dbdbfd82",
   "metadata": {},
   "outputs": [],
   "source": [
    "if os.path.exists('modelo_neumonia.h5'):\n",
    "    print(\"Cargando modelo existente...\")\n",
    "    model = load_model('modelo_neumonia.h5')\n",
    "else:\n",
    "    print(\"Entrenando nuevo modelo CNN...\")\n",
    "    model = Sequential([\n",
    "        Conv2D(32, (3,3), activation='relu', input_shape=(img_width, img_height, 3)),\n",
    "        MaxPooling2D(2,2),\n",
    "        Conv2D(64, (3,3), activation='relu'),\n",
    "        MaxPooling2D(2,2),\n",
    "        Conv2D(128, (3,3), activation='relu'),\n",
    "        MaxPooling2D(2,2),\n",
    "        Flatten(),\n",
    "        Dense(512, activation='relu'),\n",
    "        Dropout(0.5),\n",
    "        Dense(1, activation='sigmoid')\n",
    "    ])\n",
    "    model.compile(optimizer=Adam(0.0001), loss='binary_crossentropy', metrics=['accuracy'])\n",
    "    model.fit(train_generator, steps_per_epoch=train_generator.samples // batch_size,\n",
    "        validation_data=val_generator, validation_steps=val_generator.samples // batch_size,\n",
    "        epochs=epochs)\n",
    "    model.save('modelo_neumonia.h5')"
   ]
  },
  {
   "cell_type": "markdown",
   "id": "11c79e0f",
   "metadata": {},
   "source": [
    "## 5. Predicción con la CNN\n",
    "\n",
    "Realizamos predicciones sobre las imágenes del conjunto de prueba usando el modelo CNN.  \n",
    "Convertimos las probabilidades en etiquetas binarias (0 o 1) comparándolas con un umbral de 0.5.\n"
   ]
  },
  {
   "cell_type": "code",
   "execution_count": null,
   "id": "25930bb6",
   "metadata": {},
   "outputs": [],
   "source": [
    "predictions = model.predict(test_generator)\n",
    "predicted_classes = (predictions > 0.5).astype(int)"
   ]
  },
  {
   "cell_type": "markdown",
   "id": "f0f9a70b",
   "metadata": {},
   "source": [
    "## 6. Extracción de características con MobileNetV2\n",
    "\n",
    "MobileNetV2 se utiliza como extractor de características sin reentrenamiento (transfer learning).  \n",
    "A partir de cada imagen, genera un vector numérico que resume patrones visuales relevantes aprendidos en ImageNet.\n"
   ]
  },
  {
   "cell_type": "code",
   "execution_count": null,
   "id": "5247eef8",
   "metadata": {},
   "outputs": [],
   "source": [
    "mobilenet = MobileNetV2(input_shape=(img_width, img_height, 3), include_top=False,\n",
    "                          weights='imagenet', pooling='avg')\n",
    "train_features = mobilenet.predict(train_generator)\n",
    "test_features = mobilenet.predict(test_generator)"
   ]
  },
  {
   "cell_type": "markdown",
   "id": "f93d465f",
   "metadata": {},
   "source": [
    "## 7. Clasificación con Random Forest\n",
    "\n",
    "Entrenamos un modelo `RandomForestClassifier` utilizando los vectores de características generados por MobileNetV2.  \n",
    "Activamos `class_weight='balanced'` para compensar el desbalance entre clases.  \n",
    "Después usamos este modelo para predecir sobre las imágenes de prueba.\n"
   ]
  },
  {
   "cell_type": "code",
   "execution_count": null,
   "id": "7a3c84ca",
   "metadata": {},
   "outputs": [],
   "source": [
    "rf = RandomForestClassifier(n_estimators=100, class_weight='balanced')\n",
    "rf.fit(train_features, train_generator.classes)\n",
    "y_pred_rf = rf.predict(test_features)"
   ]
  },
  {
   "cell_type": "markdown",
   "id": "58904b92",
   "metadata": {},
   "source": [
    "## 8. Comparación de resultados entre modelos\n",
    "\n",
    "Calculamos métricas de rendimiento para ambos enfoques (CNN y MobileNet + RF), incluyendo:\n",
    "- Exactitud global (`accuracy`)\n",
    "- Distribución de clases predichas\n",
    "- Informe detallado de clasificación con precisión, recall y F1-score\n"
   ]
  },
  {
   "cell_type": "code",
   "execution_count": null,
   "id": "571bc5e8",
   "metadata": {},
   "outputs": [],
   "source": [
    "acc_cnn = accuracy_score(test_generator.classes, predicted_classes)\n",
    "acc_rf = accuracy_score(test_generator.classes, y_pred_rf)\n",
    "print(f\"\\nExactitud modelo CNN manual: {acc_cnn:.2f}\")\n",
    "print(f\"Exactitud modelo MobileNet + Random Forest: {acc_rf:.2f}\\n\")\n",
    "print(\"Distribución real de clases en test:\", np.bincount(test_generator.classes))\n",
    "print(\"Distribución de predicciones con RF:\", np.bincount(y_pred_rf))\n",
    "print(\"=== Informe CNN manual ===\")\n",
    "print(classification_report(test_generator.classes, predicted_classes))\n",
    "print(\"=== Informe MobileNet + RF ===\")\n",
    "print(classification_report(test_generator.classes, y_pred_rf))"
   ]
  },
  {
   "cell_type": "markdown",
   "id": "ed26142b",
   "metadata": {},
   "source": [
    "## 9. Visualización de la matriz de confusión\n",
    "\n",
    "Mostramos gráficamente los resultados de clasificación con una matriz de confusión para cada modelo.  \n",
    "Esto permite identificar en qué tipo de casos se producen más errores (falsos positivos o negativos).\n"
   ]
  },
  {
   "cell_type": "code",
   "execution_count": null,
   "id": "5e26b55a",
   "metadata": {},
   "outputs": [],
   "source": [
    "def plot_confusion(y_true, y_pred, title):\n",
    "    cm = confusion_matrix(y_true, y_pred)\n",
    "    plt.figure(figsize=(4,3))\n",
    "    sns.heatmap(cm, annot=True, fmt='d', cmap='Blues')\n",
    "    plt.title(title)\n",
    "    plt.xlabel(\"Predicción\")\n",
    "    plt.ylabel(\"Real\")\n",
    "    plt.show()\n",
    "\n",
    "plot_confusion(test_generator.classes, predicted_classes, \"Matriz de confusión - CNN manual\")\n",
    "plot_confusion(test_generator.classes, y_pred_rf, \"Matriz de confusión - MobileNet + RF\")"
   ]
  }
 ],
 "metadata": {
  "kernelspec": {
   "display_name": "venv",
   "language": "python",
   "name": "python3"
  },
  "language_info": {
   "codemirror_mode": {
    "name": "ipython",
    "version": 3
   },
   "file_extension": ".py",
   "mimetype": "text/x-python",
   "name": "python",
   "nbconvert_exporter": "python",
   "pygments_lexer": "ipython3",
   "version": "3.12.3"
  }
 },
 "nbformat": 4,
 "nbformat_minor": 5
}
